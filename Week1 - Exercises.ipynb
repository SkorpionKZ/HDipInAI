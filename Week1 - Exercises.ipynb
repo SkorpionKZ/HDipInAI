{
 "cells": [
  {
   "cell_type": "code",
   "execution_count": 58,
   "metadata": {},
   "outputs": [
    {
     "name": "stdout",
     "output_type": "stream",
     "text": [
      "Welcome.\n",
      "I can help you with checking if number is Even/Odd, Negative/Positive and find solution for Quadratic Equation.\n",
      "\n",
      "Please, choose what you want me to do:/n\n",
      "1 - Check if number is even or odd/n\n",
      "2 - Check if number is positive or negative/n\n",
      "3 - Find solution for quadratic equation/n\n",
      "3\n",
      "\n",
      "Provide coefficients a: 4\n",
      "Provide coefficients b: 5\n",
      "Provide coefficients c: -10\n",
      "There are 2 possible solutions of a quadratic equation for provided values\n",
      "\n",
      "4.0*x^2 + 5.0*x + -10.0 = 0\n",
      "\n",
      "x = 17.2 or x = -37.2\n"
     ]
    }
   ],
   "source": [
    "###########################\n",
    "# Created on 27 Sep 2021\n",
    "# author: Andrzej Bejmart\n",
    "###########################\n",
    "\n",
    "# Imports math framework\n",
    "import math\n",
    "\n",
    "print(\"Welcome.\\nI can help you with checking if number is Even/Odd, Negative/Positive and find solution for Quadratic Equation.\")\n",
    "print()\n",
    "print(\"Please, choose what you want me to do:/n\")\n",
    "print(\"1 - Check if number is even or odd/n\")\n",
    "print(\"2 - Check if number is positive or negative/n\")\n",
    "print(\"3 - Find solution for quadratic equation/n\")\n",
    "i_selection = get_value(0)\n",
    "print()\n",
    "\n",
    "if i_selection == 1:\n",
    "    OddEven()\n",
    "elif i_selection == 2:\n",
    "    PositiveNegative()\n",
    "elif i_selection == 3:\n",
    "    QuadEquation()\n"
   ]
  },
  {
   "cell_type": "code",
   "execution_count": 15,
   "metadata": {},
   "outputs": [],
   "source": [
    "# INPUT FUNCTION FOR ALL QUESTIONS\n",
    "\n",
    "def get_value(option:int):\n",
    "    message = \"\"\n",
    "    value_format = \"\"\n",
    "    #ENCAPSULATION\n",
    "    #OPTION 0 to select excercise\n",
    "    \n",
    "    # EXCERCISE 1\n",
    "    # Even/Odd number check - option 1\n",
    "    \n",
    "    # EXCERCISE 2\n",
    "    # Positive/Negative number check - option 2\n",
    "    \n",
    "    # EXCERCISE 3 - The roots of a quadratic equation\n",
    "    # coefficients a - option 3\n",
    "    # coefficients b - option 4\n",
    "    # coefficients c - option 5\n",
    "    \n",
    "    if option ==0:\n",
    "        message==\"\"\n",
    "        value_format = \"integer\"\n",
    "    elif option == 1:\n",
    "        message = \"Provide full number (integer) to check: \"\n",
    "        value_format = \"integer\"\n",
    "    elif option == 2:\n",
    "        message = \"Provide number to check: \"\n",
    "        value_format = \"float\"\n",
    "    elif option == 3:\n",
    "        message = \"Provide coefficients a: \"\n",
    "        value_format = \"float\"\n",
    "    elif option == 4:\n",
    "        message = \"Provide coefficients b: \"\n",
    "        value_format = \"float\"\n",
    "    elif option == 5:\n",
    "        message = \"Provide coefficients c: \"\n",
    "        value_format = \"float\"\n",
    "    else:\n",
    "        print(\"Unkown task\")\n",
    "        return 0\n",
    "    \n",
    "    value = None\n",
    "    #Loop provided values until conditions are satisfied\n",
    "    while value==None:\n",
    "        try:\n",
    "            if value_format == \"integer\":\n",
    "                # inforce value to be integer\n",
    "                value = int(input(message))\n",
    "            elif value_format == \"float\":\n",
    "                # inforce value to be float\n",
    "                value = float(input(message))\n",
    "                \n",
    "            if option == 0 and not 1<=value<=3 then\n",
    "                #check if selected option is valid\n",
    "                value = None\n",
    "                    \n",
    "        except  ValueError:\n",
    "            value = None\n",
    "    return value\n"
   ]
  },
  {
   "cell_type": "markdown",
   "metadata": {},
   "source": [
    "# Odd or Even"
   ]
  },
  {
   "cell_type": "code",
   "execution_count": 53,
   "metadata": {},
   "outputs": [],
   "source": [
    "def OddEven():\n",
    "    # request to provide value for test\n",
    "    input_number = get_value(1)\n",
    "\n",
    "    # finds remaining number for even/odd test\n",
    "    rem = input_number%2\n",
    "\n",
    "    if rem == 0:\n",
    "        # remaining value 0, means number is even\n",
    "        print(f\"You typed number {input_number}. This is even number\")\n",
    "    else:\n",
    "        # remaining value no 0, means number is odd\n",
    "        print (f\"You typed number {input_number}. This is odd number\")"
   ]
  },
  {
   "cell_type": "markdown",
   "metadata": {},
   "source": [
    "# Positive or Negative"
   ]
  },
  {
   "cell_type": "code",
   "execution_count": 52,
   "metadata": {},
   "outputs": [],
   "source": [
    "def PositiveNegative():\n",
    "    # request to provide value for test\n",
    "    input_number = get_value(2)\n",
    "    str_message=\"\"\n",
    "\n",
    "    #validate provided value\n",
    "    if input_number>0:\n",
    "        # if number is grater than 0, number is positive\n",
    "        print(f\"You typed number {input_number}. This is positive number\")\n",
    "    elif input_number<0:\n",
    "        # if number is lower than 0, number is negative\n",
    "        print(f\"You typed number {input_number}. This is negative number\")\n",
    "    else:\n",
    "        # if number is 0, number is neither negative nor positive\n",
    "        print(f\"You typed number {input_number}. This is neither positive nor negative number\")"
   ]
  },
  {
   "cell_type": "markdown",
   "metadata": {},
   "source": [
    "# The roots of a quadratic equation"
   ]
  },
  {
   "cell_type": "code",
   "execution_count": 56,
   "metadata": {},
   "outputs": [],
   "source": [
    "def QuadEquation():\n",
    "\n",
    "    # request to provide value for coefficients a, b and c\n",
    "    coeff_a = get_value(3)\n",
    "    coeff_b = get_value(4)\n",
    "    coeff_c = get_value(5)\n",
    "\n",
    "    # calculate value to use under square root\n",
    "    # this value will be used as condition for further checks\n",
    "    in_sqrt = coeff_b**2 - 4*coeff_a*coeff_c\n",
    "    str_message=\"\"\n",
    "\n",
    "    if coeff_a == 0:\n",
    "        # if coefficient a is 0, means equation is not quadratic, and liniar equation is used\n",
    "        x = -coeff_c / coeff_b\n",
    "\n",
    "        print (\"Solution of a liniar equation for provided values\\n\")\n",
    "        print (f\"{coeff_b}*x + {coeff_c} = 0\\n\")\n",
    "        print (f\"x = {round(x,2)}\")\n",
    "\n",
    "    elif in_sqrt == 0:\n",
    "        # if value under the square root is 0, means that there is only one possible solution for equation\n",
    "        x = (-coeff_b + math.sqrt(in_sqrt)) / 2*coeff_a\n",
    "    \n",
    "        print (\"There is only 1 possible solution of a quadratic equation for provided values\\n\")\n",
    "        print (f\"{coeff_a}*x^2 + {coeff_b}*x + {coeff_c} = 0\\n\")\n",
    "        print (f\"x = {round(x,2)}\")\n",
    "\n",
    "    elif in_sqrt > 0:\n",
    "        # if value under the square root is grater 0, means that there are two possible solutions for equation\n",
    "        # calculate both colutions and asign it variables x1 and x2\n",
    "        x1 = (-coeff_b + math.sqrt(in_sqrt)) / 2*coeff_a\n",
    "        x2 = (-coeff_b - math.sqrt(in_sqrt)) / 2*coeff_a\n",
    "\n",
    "        print (f\"There are 2 possible solutions of a quadratic equation for provided values\\n\")\n",
    "        print (f\"{coeff_a}*x^2 + {coeff_b}*x + {coeff_c} = 0\\n\")\n",
    "        print (f\"x = {round(x1,2)} or x = {round(x2,2)}\")\n",
    "\n",
    "    elif in_sqrt < 0:\n",
    "        # if value under the square root is lower 0, means that there is no possible solutions for equation\n",
    "        print (\"Quadratic equation for provided values can not be solved\")\n",
    "\n",
    "    # END IF in_sqrt = 0    "
   ]
  },
  {
   "cell_type": "markdown",
   "metadata": {},
   "source": []
  }
 ],
 "metadata": {
  "kernelspec": {
   "display_name": "Python 3",
   "language": "python",
   "name": "python3"
  },
  "language_info": {
   "codemirror_mode": {
    "name": "ipython",
    "version": 3
   },
   "file_extension": ".py",
   "mimetype": "text/x-python",
   "name": "python",
   "nbconvert_exporter": "python",
   "pygments_lexer": "ipython3",
   "version": "3.8.5"
  }
 },
 "nbformat": 4,
 "nbformat_minor": 4
}
